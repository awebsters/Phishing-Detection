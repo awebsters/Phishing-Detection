{
 "cells": [
  {
   "cell_type": "markdown",
   "metadata": {},
   "source": [
    "# Phishing Detection Feature Engineering\n",
    "\n",
    "This notebook will create, visualize and explain some of the thinking behind the feature engineering.\n",
    "It will:\n",
    "- Create a new dataset of features\n",
    "- Provide visualtizations and basic analysis of the features\n",
    "- Output this dataset to a .csv file for use in a model"
   ]
  },
  {
   "cell_type": "markdown",
   "metadata": {},
   "source": [
    "First we import the libraries and data\n",
    "We are labeling a Phishing url as 1 and a non-phishing as 0"
   ]
  },
  {
   "cell_type": "code",
   "execution_count": 4,
   "metadata": {},
   "outputs": [],
   "source": [
    "import pandas as pd\n",
    "import seaborn as sns\n",
    "import matplotlib.pyplot as plt\n",
    "import re"
   ]
  },
  {
   "cell_type": "code",
   "execution_count": 5,
   "metadata": {},
   "outputs": [
    {
     "name": "stdout",
     "output_type": "stream",
     "text": [
      "                                                      URL Label\n",
      "0       nobell.it/70ffb52d079109dca5664cce6f317373782/...   bad\n",
      "1       www.dghjdgf.com/paypal.co.uk/cycgi-bin/webscrc...   bad\n",
      "2       serviciosbys.com/paypal.cgi.bin.get-into.herf....   bad\n",
      "3       mail.printakid.com/www.online.americanexpress....   bad\n",
      "4       thewhiskeydregs.com/wp-content/themes/widescre...   bad\n",
      "...                                                   ...   ...\n",
      "549341                                    23.227.196.215/   bad\n",
      "549342                                 apple-checker.org/   bad\n",
      "549343                                  apple-iclods.org/   bad\n",
      "549344                                 apple-uptoday.org/   bad\n",
      "549345                                  apple-search.info   bad\n",
      "\n",
      "[549346 rows x 2 columns]\n"
     ]
    }
   ],
   "source": [
    "data = pd.read_csv('phishing_site_urls.csv')\n",
    "data['Label'] = data['Label'].map({'bad': 1, 'good': 0})"
   ]
  },
  {
   "cell_type": "markdown",
   "metadata": {},
   "source": [
    "# Simple Features\n",
    "\n",
    "- Number of periods in the URL\n",
    "  - Multiple subdomains are uncommon amongst legitimate urls.\n",
    "- Number of slashes\n",
    "  - Large numbers of slashes to direct you all to long routes is common for Phishing urls\n",
    "- Length of the URL\n",
    "  - Common url's have smaller lengths than most Phishing URLs\n",
    "- Number of numbers in the URL\n",
    "  - Phishing urls commonly contain numbers this is less common with legitimate urls\n",
    "- firstdigit\n",
    "  - Maybe Phishing websites start with digits more often"
   ]
  },
  {
   "cell_type": "code",
   "execution_count": 6,
   "metadata": {},
   "outputs": [],
   "source": [
    "data['periods'] = data['URL'].apply(lambda url: url.count('.'))\n",
    "data['slashes'] = data['URL'].apply(lambda url: url.count('/'))\n",
    "data['length'] = data['URL'].apply(lambda url: len(url))\n",
    "data['numberCount'] = data['URL'].apply(lambda url: sum(c.isdigit() for c in url))\n",
    "data['firstdigit'] = data['URL'].apply(lambda url: int(url[0].isdigit()))"
   ]
  },
  {
   "cell_type": "markdown",
   "metadata": {},
   "source": [
    "# More Advanced and Creative Features\n",
    "These are features that contain more advanced concepts such as IP addresses or URL domains.\n",
    "\n",
    "- Contains an IP address\n",
    "- Number of semicolons\n",
    "  - Websites can pass information using the pattern ?variable=value;variable2=value2\n",
    "- Number of domains such of .com, .ca and .net\n",
    "  - Phishing websites commonly contain many domains"
   ]
  },
  {
   "cell_type": "code",
   "execution_count": 8,
   "metadata": {},
   "outputs": [
    {
     "name": "stdout",
     "output_type": "stream",
     "text": [
      "                                                      URL  Label  periods  \\\n",
      "0       nobell.it/70ffb52d079109dca5664cce6f317373782/...      1        6   \n",
      "1       www.dghjdgf.com/paypal.co.uk/cycgi-bin/webscrc...      1        5   \n",
      "2       serviciosbys.com/paypal.cgi.bin.get-into.herf....      1        7   \n",
      "3       mail.printakid.com/www.online.americanexpress....      1        6   \n",
      "4       thewhiskeydregs.com/wp-content/themes/widescre...      1        1   \n",
      "...                                                   ...    ...      ...   \n",
      "549341                                    23.227.196.215/      1        3   \n",
      "549342                                 apple-checker.org/      1        1   \n",
      "549343                                  apple-iclods.org/      1        1   \n",
      "549344                                 apple-uptoday.org/      1        1   \n",
      "549345                                  apple-search.info      1        1   \n",
      "\n",
      "        slashes  length  numberCount  firstdigit  IP  semicolon  domain  hash  \n",
      "0            10     225           58           0   0          0       2     1  \n",
      "1             4      81            1           0   0          0       2     0  \n",
      "2            11     177           47           0   0          0       1     1  \n",
      "3             2      60            0           0   0          0       2     0  \n",
      "4            10     116           21           0   0          0       1     0  \n",
      "...         ...     ...          ...         ...  ..        ...     ...   ...  \n",
      "549341        1      15           11           1   1          0       0     0  \n",
      "549342        1      18            0           0   0          0       0     0  \n",
      "549343        1      17            0           0   0          0       0     0  \n",
      "549344        1      18            0           0   0          0       0     0  \n",
      "549345        0      17            0           0   0          0       0     0  \n",
      "\n",
      "[549346 rows x 11 columns]\n"
     ]
    }
   ],
   "source": [
    "data['IP'] = data['URL'].apply(lambda url: int(re.search('(?:\\d{1,3}\\.){3}\\d{1,3}', url) is not None))\n",
    "data['semicolon'] = data['URL'].apply(lambda url: url.count(';'))\n",
    "\n",
    "domains = ['.com', '.net', '.ca', '.html', '.exe', '.xyz', '.php', '.rar']\n",
    "data[\"domain\"] = data['URL'].apply(lambda url: sum(substring in url for substring in domains))\n",
    "data[\"hash\"] = data['URL'].apply(lambda url: int(re.search('[0-9a-f]{64}|[0-9a-f]{32}', url) is not None))\n",
    "print(data)"
   ]
  },
  {
   "cell_type": "markdown",
   "metadata": {},
   "source": [
    "# Correlation Matrix\n",
    "Show how these features well these features correlate to the Label"
   ]
  },
  {
   "cell_type": "code",
   "execution_count": null,
   "metadata": {},
   "outputs": [],
   "source": [
    "plt.figure(figsize=(12, 9))\n",
    "sns.heatmap(data.corr(), annot=True, annot_kws={\"size\": 12}, cmap='Blues', vmin=-1, vmax=1)\n",
    "plt.show()"
   ]
  },
  {
   "cell_type": "code",
   "execution_count": 79,
   "metadata": {},
   "outputs": [],
   "source": [
    "data.to_csv('data_featured.csv')"
   ]
  },
  {
   "cell_type": "code",
   "execution_count": null,
   "metadata": {},
   "outputs": [],
   "source": []
  }
 ],
 "metadata": {
  "kernelspec": {
   "display_name": "Python 3",
   "language": "python",
   "name": "python3"
  },
  "language_info": {
   "codemirror_mode": {
    "name": "ipython",
    "version": 3
   },
   "file_extension": ".py",
   "mimetype": "text/x-python",
   "name": "python",
   "nbconvert_exporter": "python",
   "pygments_lexer": "ipython3",
   "version": "3.6.8"
  }
 },
 "nbformat": 4,
 "nbformat_minor": 4
}
