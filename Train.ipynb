{
 "cells": [
  {
   "cell_type": "markdown",
   "metadata": {},
   "source": [
    "# Phishing Detection Training\n",
    "\n",
    "- This notebook will implement and test multiple models for URL detection"
   ]
  },
  {
   "cell_type": "markdown",
   "metadata": {},
   "source": [
    "First we import libraries and get data, we also display columns for choosing later on"
   ]
  },
  {
   "cell_type": "code",
   "execution_count": 1,
   "metadata": {},
   "outputs": [],
   "source": [
    "import pandas as pd\n",
    "import seaborn as sns\n",
    "import matplotlib.pyplot as plt\n",
    "\n",
    "from sklearn.model_selection import train_test_split\n",
    "from sklearn.neighbors import KNeighborsClassifier\n",
    "from sklearn.metrics import accuracy_score, confusion_matrix"
   ]
  },
  {
   "cell_type": "code",
   "execution_count": 2,
   "metadata": {},
   "outputs": [
    {
     "data": {
      "text/plain": [
       "Index(['Unnamed: 0', 'URL', 'Label', 'periods', 'slashes', 'length',\n",
       "       'numberCount', 'firstdigit', 'IP', 'semicolon', 'domain'],\n",
       "      dtype='object')"
      ]
     },
     "execution_count": 2,
     "metadata": {},
     "output_type": "execute_result"
    }
   ],
   "source": [
    "data = pd.read_csv('data_featured.csv')\n",
    "data.columns"
   ]
  },
  {
   "cell_type": "markdown",
   "metadata": {},
   "source": [
    "# Train\n",
    "Now we train a simple KNN classifier and get train, cross validation and test set accuracy"
   ]
  },
  {
   "cell_type": "code",
   "execution_count": null,
   "metadata": {},
   "outputs": [
    {
     "name": "stdout",
     "output_type": "stream",
     "text": [
      "Training Model KNN\n",
      "Model Trained KNN\n"
     ]
    }
   ],
   "source": [
    "def confusion_matrix_plot(model, ax, title='Confusion Matrix'):\n",
    "    cm = confusion_matrix(y_test, model.predict(x_test))\n",
    "    sns.heatmap(cm, annot=True); #annot=True to annotate cells\n",
    "\n",
    "    # labels, title and ticks\n",
    "    ax.set_xlabel('Predicted labels');\n",
    "    ax.set_ylabel('True labels'); \n",
    "    ax.set_title(title); \n",
    "    ax.xaxis.set_ticklabels(['Positive', 'Negative']); \n",
    "    ax.yaxis.set_ticklabels(['Positive', 'Negative']);\n",
    "\n",
    "BEST_FEATURES = ['periods', 'length', 'slashes', 'numberCount', 'IP']\n",
    "\n",
    "\n",
    "data_y = data['Label']\n",
    "data_x = data[BEST_FEATURES]\n",
    "x_train, x_test, y_train, y_test = train_test_split(data_x, data_y, test_size=0.2, random_state=1)\n",
    "\n",
    "# Split into training and cross validation\n",
    "x_train, x_val, y_train, y_val = train_test_split(x_train, y_train,\n",
    "                                                  test_size=0.1, random_state=1)\n",
    "    \n",
    "knn = KNeighborsClassifier(n_neighbors=2)\n",
    "\n",
    "print('Training Model KNN')\n",
    "\n",
    "knn.fit(x_train, y_train)\n",
    "print(\"Model Trained KNN\")\n",
    "\n",
    "print('Model Trained: Training Acc: ' + str(accuracy_score(y_train, knn.predict(x_train))))\n",
    "print('Model Val: Val Acc: ' + str(accuracy_score(y_val, knn.predict(x_val))))\n",
    "print('Model Test: Test Acc: ' + str(accuracy_score(y_test, knn.predict(x_test))))\n",
    "\n",
    "fig, axes = plt.subplots(1, 1, figsize=(15, 10))\n",
    "confusion_matrix_plot(knn, axes, title='KNN Confusion Matrix')"
   ]
  },
  {
   "cell_type": "code",
   "execution_count": null,
   "metadata": {},
   "outputs": [],
   "source": []
  }
 ],
 "metadata": {
  "kernelspec": {
   "display_name": "Python 3",
   "language": "python",
   "name": "python3"
  },
  "language_info": {
   "codemirror_mode": {
    "name": "ipython",
    "version": 3
   },
   "file_extension": ".py",
   "mimetype": "text/x-python",
   "name": "python",
   "nbconvert_exporter": "python",
   "pygments_lexer": "ipython3",
   "version": "3.8.3"
  }
 },
 "nbformat": 4,
 "nbformat_minor": 4
}
